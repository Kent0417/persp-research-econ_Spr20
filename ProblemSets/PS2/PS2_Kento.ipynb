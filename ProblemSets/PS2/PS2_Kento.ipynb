{
 "cells": [
  {
   "cell_type": "markdown",
   "metadata": {},
   "source": [
    "# Problem Set #2\n",
    "- MACS 30250, Dr. Evans \n",
    "- Name: Kento Yoshizawa (CNET: kyoshizawa) \n",
    "- Date: May 11, 2020"
   ]
  },
  {
   "cell_type": "code",
   "execution_count": 1,
   "metadata": {},
   "outputs": [],
   "source": [
    "import numpy as np\n",
    "import pandas as pd"
   ]
  },
  {
   "cell_type": "code",
   "execution_count": 2,
   "metadata": {},
   "outputs": [
    {
     "data": {
      "text/html": [
       "<div>\n",
       "<style scoped>\n",
       "    .dataframe tbody tr th:only-of-type {\n",
       "        vertical-align: middle;\n",
       "    }\n",
       "\n",
       "    .dataframe tbody tr th {\n",
       "        vertical-align: top;\n",
       "    }\n",
       "\n",
       "    .dataframe thead th {\n",
       "        text-align: right;\n",
       "    }\n",
       "</style>\n",
       "<table border=\"1\" class=\"dataframe\">\n",
       "  <thead>\n",
       "    <tr style=\"text-align: right;\">\n",
       "      <th></th>\n",
       "      <th>mpg</th>\n",
       "      <th>cylinders</th>\n",
       "      <th>displacement</th>\n",
       "      <th>horsepower</th>\n",
       "      <th>weight</th>\n",
       "      <th>acceleration</th>\n",
       "      <th>year</th>\n",
       "      <th>origin</th>\n",
       "      <th>name</th>\n",
       "    </tr>\n",
       "  </thead>\n",
       "  <tbody>\n",
       "    <tr>\n",
       "      <th>0</th>\n",
       "      <td>18.0</td>\n",
       "      <td>8</td>\n",
       "      <td>307.0</td>\n",
       "      <td>130.0</td>\n",
       "      <td>3504</td>\n",
       "      <td>12.0</td>\n",
       "      <td>70</td>\n",
       "      <td>1</td>\n",
       "      <td>chevrolet chevelle malibu</td>\n",
       "    </tr>\n",
       "    <tr>\n",
       "      <th>1</th>\n",
       "      <td>15.0</td>\n",
       "      <td>8</td>\n",
       "      <td>350.0</td>\n",
       "      <td>165.0</td>\n",
       "      <td>3693</td>\n",
       "      <td>11.5</td>\n",
       "      <td>70</td>\n",
       "      <td>1</td>\n",
       "      <td>buick skylark 320</td>\n",
       "    </tr>\n",
       "    <tr>\n",
       "      <th>2</th>\n",
       "      <td>18.0</td>\n",
       "      <td>8</td>\n",
       "      <td>318.0</td>\n",
       "      <td>150.0</td>\n",
       "      <td>3436</td>\n",
       "      <td>11.0</td>\n",
       "      <td>70</td>\n",
       "      <td>1</td>\n",
       "      <td>plymouth satellite</td>\n",
       "    </tr>\n",
       "    <tr>\n",
       "      <th>3</th>\n",
       "      <td>16.0</td>\n",
       "      <td>8</td>\n",
       "      <td>304.0</td>\n",
       "      <td>150.0</td>\n",
       "      <td>3433</td>\n",
       "      <td>12.0</td>\n",
       "      <td>70</td>\n",
       "      <td>1</td>\n",
       "      <td>amc rebel sst</td>\n",
       "    </tr>\n",
       "    <tr>\n",
       "      <th>4</th>\n",
       "      <td>17.0</td>\n",
       "      <td>8</td>\n",
       "      <td>302.0</td>\n",
       "      <td>140.0</td>\n",
       "      <td>3449</td>\n",
       "      <td>10.5</td>\n",
       "      <td>70</td>\n",
       "      <td>1</td>\n",
       "      <td>ford torino</td>\n",
       "    </tr>\n",
       "  </tbody>\n",
       "</table>\n",
       "</div>"
      ],
      "text/plain": [
       "    mpg  cylinders  displacement  horsepower  weight  acceleration  year  \\\n",
       "0  18.0          8         307.0       130.0    3504          12.0    70   \n",
       "1  15.0          8         350.0       165.0    3693          11.5    70   \n",
       "2  18.0          8         318.0       150.0    3436          11.0    70   \n",
       "3  16.0          8         304.0       150.0    3433          12.0    70   \n",
       "4  17.0          8         302.0       140.0    3449          10.5    70   \n",
       "\n",
       "   origin                       name  \n",
       "0       1  chevrolet chevelle malibu  \n",
       "1       1          buick skylark 320  \n",
       "2       1         plymouth satellite  \n",
       "3       1              amc rebel sst  \n",
       "4       1                ford torino  "
      ]
     },
     "execution_count": 2,
     "metadata": {},
     "output_type": "execute_result"
    }
   ],
   "source": [
    "df = pd.read_csv('data/Auto.csv',na_values = '?')\n",
    "df.dropna(inplace=True)\n",
    "df.head()"
   ]
  },
  {
   "cell_type": "code",
   "execution_count": 3,
   "metadata": {},
   "outputs": [],
   "source": [
    "df_2 = df.assign(mpg_high = lambda df: [1 if i >= np.median(df.mpg) else 0 for i in df.mpg])\n",
    "df_2 = pd.get_dummies(df_2, prefix='orgn', prefix_sep='', columns=['origin']).drop(columns='orgn3')"
   ]
  },
  {
   "cell_type": "markdown",
   "metadata": {},
   "source": [
    "### (a)"
   ]
  },
  {
   "cell_type": "code",
   "execution_count": 4,
   "metadata": {},
   "outputs": [],
   "source": [
    "y = df_2['mpg_high'].values\n",
    "X = df_2.drop(columns=['mpg','name','mpg_high']).values"
   ]
  },
  {
   "cell_type": "code",
   "execution_count": 5,
   "metadata": {},
   "outputs": [
    {
     "data": {
      "text/plain": [
       "100"
      ]
     },
     "execution_count": 5,
     "metadata": {},
     "output_type": "execute_result"
    }
   ],
   "source": [
    "## Create boostraping resampled index\n",
    "from sklearn.utils import resample\n",
    "\n",
    "nx = X.shape[0]\n",
    "ind = np.arange(nx)\n",
    "n_draw = 100\n",
    "bs = [resample(ind, replace=True) for i in range(n_draw)]\n",
    "len(bs)"
   ]
  },
  {
   "cell_type": "code",
   "execution_count": 6,
   "metadata": {},
   "outputs": [
    {
     "name": "stdout",
     "output_type": "stream",
     "text": [
      "Elapsed time for serial computation: 5.0385 sec\n",
      "Mean squared Error                 : 0.093841\n"
     ]
    }
   ],
   "source": [
    "from sklearn.linear_model import LogisticRegression\n",
    "from sklearn.model_selection import train_test_split\n",
    "import time\n",
    "\n",
    "rng = 417\n",
    "lr = LogisticRegression(solver = 'lbfgs', multi_class = 'multinomial', n_jobs=1, max_iter = 10000)\n",
    "\n",
    "MSE_serial = np.zeros(n_draw)\n",
    "start = time.time()\n",
    "for i, b in enumerate(bs):\n",
    "    X_bs = X[b]\n",
    "    y_bs = y[b]\n",
    "    X_train, X_test, y_train, y_test = \\\n",
    "                train_test_split(X_bs, y_bs, test_size = 0.35, random_state = rng)\n",
    "    lr.fit(X_train, y_train)\n",
    "    y_pred = lr.predict(X_test)\n",
    "    MSE_serial[i] = ((y_test - y_pred)**2).mean()\n",
    "end = time.time() - start\n",
    "\n",
    "print('Elapsed time for serial computation: {0:.4f}'.format(end), 'sec')\n",
    "print('Mean squared Error                 : {0:.6f}'.format(MSE_serial.mean()))"
   ]
  },
  {
   "cell_type": "markdown",
   "metadata": {},
   "source": [
    "### (b)"
   ]
  },
  {
   "cell_type": "code",
   "execution_count": 7,
   "metadata": {},
   "outputs": [
    {
     "name": "stdout",
     "output_type": "stream",
     "text": [
      "Number of available cores is 4\n"
     ]
    }
   ],
   "source": [
    "import multiprocessing\n",
    "\n",
    "num_cores = multiprocessing.cpu_count()\n",
    "print('Number of available cores is', num_cores)"
   ]
  },
  {
   "cell_type": "code",
   "execution_count": 8,
   "metadata": {},
   "outputs": [],
   "source": [
    "def bootstrap_CV(b, X, y, lr, rng=None):\n",
    "    \"\"\"\n",
    "    input\n",
    "    ------\n",
    "    b: 1d array\n",
    "        bootstraping resampled indices\n",
    "    X: ndarray\n",
    "        dependent variables\n",
    "    y: 1d array\n",
    "        target variable\n",
    "    lr: object\n",
    "        regression (classifier) object\n",
    "    rng: int or None\n",
    "        random state\n",
    "    \n",
    "    return\n",
    "    -----\n",
    "    MSE_i: float\n",
    "        mean squared error\n",
    "    \"\"\"\n",
    "    \n",
    "    X_bs = X[b]\n",
    "    y_bs = y[b]\n",
    "    X_train, X_test, y_train, y_test = \\\n",
    "                train_test_split(X_bs, y_bs, test_size = 0.35, random_state = rng)\n",
    "    lr.fit(X_train, y_train)\n",
    "    y_pred = lr.predict(X_test)\n",
    "    MSE_i = ((y_test - y_pred)**2).mean()\n",
    "    \n",
    "    return MSE_i"
   ]
  },
  {
   "cell_type": "code",
   "execution_count": 9,
   "metadata": {},
   "outputs": [
    {
     "name": "stdout",
     "output_type": "stream",
     "text": [
      "Elapsed time for serial computation: 2.4686 sec\n",
      "Mean squared Error                 : 0.093841\n"
     ]
    }
   ],
   "source": [
    "from dask import compute, delayed\n",
    "import dask.multiprocessing\n",
    "\n",
    "lr = LogisticRegression(solver = 'lbfgs', multi_class = 'multinomial', n_jobs=1, max_iter = 10000)\n",
    "\n",
    "lazy_values = []\n",
    "start = time.time()\n",
    "for b in bs:\n",
    "    lazy_values.append(delayed(bootstrap_CV)(b, X, y, lr, rng))\n",
    "MSE_para = compute(*lazy_values, scheduler=dask.multiprocessing.get, num_workers=num_cores)\n",
    "end = time.time()-start\n",
    "\n",
    "print('Elapsed time for serial computation: {0:.4f}'.format(end), 'sec')\n",
    "print('Mean squared Error                 : {0:.6f}'.format(np.array(MSE_para).mean()))"
   ]
  }
 ],
 "metadata": {
  "kernelspec": {
   "display_name": "dask_env",
   "language": "python",
   "name": "dask_env"
  },
  "language_info": {
   "codemirror_mode": {
    "name": "ipython",
    "version": 3
   },
   "file_extension": ".py",
   "mimetype": "text/x-python",
   "name": "python",
   "nbconvert_exporter": "python",
   "pygments_lexer": "ipython3",
   "version": "3.7.0"
  }
 },
 "nbformat": 4,
 "nbformat_minor": 4
}
